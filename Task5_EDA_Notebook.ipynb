{
 "cells": [
  {
   "cell_type": "markdown",
   "id": "8995b586",
   "metadata": {},
   "source": [
    "# Task 5 - Exploratory Data Analysis\n",
    "Dataset: train.csv (Titanic)"
   ]
  },
  {
   "cell_type": "code",
   "execution_count": null,
   "id": "c5a35d04",
   "metadata": {},
   "outputs": [],
   "source": [
    "import pandas as pd\n",
    "from pathlib import Path\n",
    "csv_path = Path('/mnt/data/train.csv')\n",
    "df = pd.read_csv(csv_path)\n",
    "df.head()"
   ]
  },
  {
   "cell_type": "code",
   "execution_count": null,
   "id": "70724a71",
   "metadata": {},
   "outputs": [],
   "source": [
    "# Basic info\n",
    "print(df.shape)\n",
    "df.info()"
   ]
  },
  {
   "cell_type": "code",
   "execution_count": null,
   "id": "ff7a0cb3",
   "metadata": {},
   "outputs": [],
   "source": [
    "# Describe\n",
    "df.describe(include='all')"
   ]
  },
  {
   "cell_type": "code",
   "execution_count": null,
   "id": "ee87679a",
   "metadata": {},
   "outputs": [],
   "source": [
    "# Missing values\n",
    "print(df.isnull().sum().sort_values(ascending=False))"
   ]
  },
  {
   "cell_type": "code",
   "execution_count": null,
   "id": "ddf0688d",
   "metadata": {},
   "outputs": [],
   "source": [
    "# Example imputation\n",
    "from statistics import median\n",
    "print('Median age:', df['Age'].median())\n",
    "df['Age_imputed'] = df['Age'].fillna(df['Age'].median())\n",
    "df[['Age','Age_imputed']].head()"
   ]
  },
  {
   "cell_type": "markdown",
   "id": "ce999a5e",
   "metadata": {},
   "source": [
    "## Saved Visualizations\n",
    "The notebook generation script saved plots to `/mnt/data/eda_output/images`. You can open them from the notebook or locally."
   ]
  }
 ],
 "metadata": {},
 "nbformat": 4,
 "nbformat_minor": 5
}
